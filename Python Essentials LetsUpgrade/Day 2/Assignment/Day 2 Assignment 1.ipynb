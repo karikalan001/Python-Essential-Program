{
 "cells": [
  {
   "cell_type": "code",
   "execution_count": 1,
   "metadata": {},
   "outputs": [
    {
     "name": "stdout",
     "output_type": "stream",
     "text": [
      "5\n"
     ]
    }
   ],
   "source": [
    "x = int(input())"
   ]
  },
  {
   "cell_type": "markdown",
   "metadata": {},
   "source": [
    "# (2x+5/x^2+5x+6)"
   ]
  },
  {
   "cell_type": "code",
   "execution_count": 2,
   "metadata": {},
   "outputs": [
    {
     "name": "stdout",
     "output_type": "stream",
     "text": [
      "((2*x)+5) / ((x**x) + (5*x) + 6) =  0.004752851711026616\n"
     ]
    }
   ],
   "source": [
    "Question_1 = ((2*x)+5) / ((x**x) + (5*x) + 6)\n",
    "print(\"((2*x)+5) / ((x**x) + (5*x) + 6) = \",Question_1)"
   ]
  },
  {
   "cell_type": "markdown",
   "metadata": {},
   "source": [
    "# (x^2+5x+6/2x+5)"
   ]
  },
  {
   "cell_type": "code",
   "execution_count": 3,
   "metadata": {},
   "outputs": [
    {
     "name": "stdout",
     "output_type": "stream",
     "text": [
      "((x**x) + (5*x) + 6) / ((2*x)+5) =  210.4\n"
     ]
    }
   ],
   "source": [
    "Question_2 = ((x**x) + (5*x) + 6) / ((2*x)+5)\n",
    "print(\"((x**x) + (5*x) + 6) / ((2*x)+5) = \",Question_2)"
   ]
  },
  {
   "cell_type": "markdown",
   "metadata": {},
   "source": [
    "# (2x-3)(x-9)"
   ]
  },
  {
   "cell_type": "code",
   "execution_count": 4,
   "metadata": {},
   "outputs": [
    {
     "name": "stdout",
     "output_type": "stream",
     "text": [
      "((2*x) -3)(x + 9) =  98\n"
     ]
    }
   ],
   "source": [
    "Question_3 = (((2*x) - 3) * (x + 9))\n",
    "print(\"((2*x) -3)(x + 9) = \",Question_3)"
   ]
  },
  {
   "cell_type": "code",
   "execution_count": 5,
   "metadata": {},
   "outputs": [
    {
     "data": {
      "text/plain": [
       "25"
      ]
     },
     "execution_count": 5,
     "metadata": {},
     "output_type": "execute_result"
    }
   ],
   "source": [
    "5**2"
   ]
  },
  {
   "cell_type": "code",
   "execution_count": 6,
   "metadata": {},
   "outputs": [
    {
     "data": {
      "text/plain": [
       "98"
      ]
     },
     "execution_count": 6,
     "metadata": {},
     "output_type": "execute_result"
    }
   ],
   "source": [
    "7*14"
   ]
  },
  {
   "cell_type": "markdown",
   "metadata": {},
   "source": [
    "# Create a username and password login file using nested while loop"
   ]
  },
  {
   "cell_type": "code",
   "execution_count": 7,
   "metadata": {},
   "outputs": [
    {
     "name": "stdout",
     "output_type": "stream",
     "text": [
      "Welcome\n",
      "\n",
      "Please enter valid username and password\n",
      "Enter User Name raj\n",
      "Enter password kiran\n",
      "Access Granted\n",
      "\n",
      "Welcome  raj\n"
     ]
    }
   ],
   "source": [
    "# print(\"Welcome\\n\\nPlease enter valid username and password\")\n",
    "\n",
    "count = 0\n",
    "while count<3:\n",
    "    print(\"Welcome\\n\\nPlease enter valid username and password\")\n",
    "    username = input(\"Enter User Name \")\n",
    "\n",
    "    \n",
    "    while username == \"raj\" and count<3:\n",
    "        password = input(\"Enter password \")\n",
    "#         print(\"You are blocked for 24 hrs\") if count>3 else print(\"retry\")\n",
    "        if password == \"kiran\":\n",
    "            print(\"Access Granted\\n\\nWelcome \",username)\n",
    "            break\n",
    "        else:\n",
    "            print(username,\", Your password is wrong\")       \n",
    "            count+=1\n",
    "            print(\"You are blocked for 24 hrs\") if count==3 else print(\"Retry\")\n",
    "#         if count==3:\n",
    "#             print(\"You are blocked for 24 hrs\")\n",
    "#         else:\n",
    "#             print(\"retry\")\n",
    "        \n",
    "    else:\n",
    "        print(\"Username not registered or password is incorrect\")\n",
    "        count += 1\n",
    "    break\n",
    "\n",
    "        "
   ]
  },
  {
   "cell_type": "code",
   "execution_count": null,
   "metadata": {},
   "outputs": [],
   "source": []
  },
  {
   "cell_type": "code",
   "execution_count": null,
   "metadata": {},
   "outputs": [],
   "source": []
  }
 ],
 "metadata": {
  "kernelspec": {
   "display_name": "Python 3",
   "language": "python",
   "name": "python3"
  },
  "language_info": {
   "codemirror_mode": {
    "name": "ipython",
    "version": 3
   },
   "file_extension": ".py",
   "mimetype": "text/x-python",
   "name": "python",
   "nbconvert_exporter": "python",
   "pygments_lexer": "ipython3",
   "version": "3.8.3"
  }
 },
 "nbformat": 4,
 "nbformat_minor": 4
}
