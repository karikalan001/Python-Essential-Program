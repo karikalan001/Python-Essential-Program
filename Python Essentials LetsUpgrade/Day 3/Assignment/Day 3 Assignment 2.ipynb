{
 "cells": [
  {
   "cell_type": "markdown",
   "metadata": {},
   "source": [
    "# Pattern 1"
   ]
  },
  {
   "cell_type": "code",
   "execution_count": 10,
   "metadata": {},
   "outputs": [
    {
     "name": "stdout",
     "output_type": "stream",
     "text": [
      "Enter the number 5\n",
      "* \n",
      "* * \n",
      "* * * \n",
      "* * * * \n",
      "* * * * * \n"
     ]
    }
   ],
   "source": [
    "n = int(input(\"Enter the number \"))\n",
    "for row in range(0,n,1):\n",
    "    for col in range(row+1):\n",
    "        print(\"*\",end=\" \")\n",
    "    print()"
   ]
  },
  {
   "cell_type": "markdown",
   "metadata": {},
   "source": [
    "# Pattern 2"
   ]
  },
  {
   "cell_type": "code",
   "execution_count": 11,
   "metadata": {},
   "outputs": [
    {
     "name": "stdout",
     "output_type": "stream",
     "text": [
      "Enter the number 5\n",
      "* * * * * \n",
      "* * * * \n",
      "* * * \n",
      "* * \n",
      "* \n"
     ]
    }
   ],
   "source": [
    "n = int(input(\"Enter the number \"))\n",
    "for row in range(n,0,-1):\n",
    "    for col in range(row):\n",
    "        print(\"*\",end=\" \")\n",
    "    print()"
   ]
  },
  {
   "cell_type": "code",
   "execution_count": 14,
   "metadata": {},
   "outputs": [],
   "source": [
    "s1 = \"king\"\n",
    "s2 = list(s1)"
   ]
  },
  {
   "cell_type": "code",
   "execution_count": 15,
   "metadata": {},
   "outputs": [
    {
     "data": {
      "text/plain": [
       "list"
      ]
     },
     "execution_count": 15,
     "metadata": {},
     "output_type": "execute_result"
    }
   ],
   "source": [
    "type(s2)"
   ]
  },
  {
   "cell_type": "code",
   "execution_count": 16,
   "metadata": {},
   "outputs": [
    {
     "name": "stdout",
     "output_type": "stream",
     "text": [
      "['k', 'i', 'n', 'g']\n"
     ]
    }
   ],
   "source": [
    "print(s2)"
   ]
  },
  {
   "cell_type": "markdown",
   "metadata": {},
   "source": [
    "# Write a Python program to remove duplicates from a list"
   ]
  },
  {
   "cell_type": "code",
   "execution_count": 2,
   "metadata": {},
   "outputs": [
    {
     "name": "stdout",
     "output_type": "stream",
     "text": [
      "[1, 2, 3, 4, 5, 6, 7, 8, 9]\n"
     ]
    }
   ],
   "source": [
    "duplicate = [1,1,2,2,3,3,5,5,4,4,8,8,9,6,4,8,7,2,3,1,4]\n",
    "print(list(set(duplicate)))"
   ]
  },
  {
   "cell_type": "code",
   "execution_count": 5,
   "metadata": {},
   "outputs": [
    {
     "name": "stdout",
     "output_type": "stream",
     "text": [
      "[1, 2, 3, 5, 4, 8, 9, 6, 7]\n"
     ]
    }
   ],
   "source": [
    "duplicate = [1,1,2,2,3,3,5,5,4,4,8,8,9,6,4,8,7,2,3,1,4]\n",
    "original = []\n",
    "for item in duplicate:\n",
    "    if item not in original:\n",
    "        original.append(item)\n",
    "print(original)\n",
    "        "
   ]
  },
  {
   "cell_type": "markdown",
   "metadata": {},
   "source": [
    "# Write a Python program to get the difference between the two lists# "
   ]
  },
  {
   "cell_type": "code",
   "execution_count": 9,
   "metadata": {},
   "outputs": [
    {
     "name": "stdout",
     "output_type": "stream",
     "text": [
      "[8, 9, 7]\n",
      "[2, 3, 4]\n",
      "[8, 9, 7, 2, 3, 4]\n"
     ]
    }
   ],
   "source": [
    "l1=[1,6,8,7,9]\n",
    "l2=[2,6,3,4,1,3]\n",
    "differ1 = list(set(l1) - set(l2))\n",
    "differ2 = list(set(l2) - set(l1))\n",
    "print(differ1)\n",
    "print(differ2)\n",
    "total_differance = differ1 + differ2\n",
    "print(total_differance)"
   ]
  },
  {
   "cell_type": "markdown",
   "metadata": {},
   "source": [
    "# Write a Python program to get the frequency of the elements in a list"
   ]
  },
  {
   "cell_type": "code",
   "execution_count": 42,
   "metadata": {},
   "outputs": [
    {
     "name": "stdout",
     "output_type": "stream",
     "text": [
      "{1: 3, 2: 5, 3: 2, 4: 4, 5: 3, 6: 3, 9: 1, 8: 4, 7: 1}\n",
      " 1 is printed  3 times\n",
      " 2 is printed  5 times\n",
      " 3 is printed  2 times\n",
      " 4 is printed  4 times\n",
      " 5 is printed  3 times\n",
      " 6 is printed  3 times\n",
      " 9 is printed  1 times\n",
      " 8 is printed  4 times\n",
      " 7 is printed  1 times\n"
     ]
    }
   ],
   "source": [
    "l1 = [1,2,3,4,5,6,9,8,7,4,5,6,2,2,1,2,3,6,8,4,8,4,5,2,8,1]\n",
    "\n",
    "count = {} \n",
    "for i in l1: \n",
    "    count[i] = count.get(i, 0) + 1\n",
    "print(count) \n",
    "\n",
    "for key, value in count.items(): \n",
    "    print (\"% d is printed % d times\"%(key, value)) \n",
    "\n",
    "        "
   ]
  },
  {
   "cell_type": "code",
   "execution_count": 52,
   "metadata": {},
   "outputs": [
    {
     "name": "stdout",
     "output_type": "stream",
     "text": [
      "['red', 'orange', 'green', 'blue', 'white', 'black', 'red', 'yellow', 'green', 'blue'] \n",
      "\n",
      "{'red': 2, 'orange': 1, 'green': 2, 'blue': 2, 'white': 1, 'black': 1, 'yellow': 1} \n",
      "\n",
      "'red' is printed 2 times\n",
      "'orange' is printed 1 times\n",
      "'green' is printed 2 times\n",
      "'blue' is printed 2 times\n",
      "'white' is printed 1 times\n",
      "'black' is printed 1 times\n",
      "'yellow' is printed 1 times\n"
     ]
    }
   ],
   "source": [
    "color1 = [\"red\", \"orange\", \"green\", \"blue\", \"white\"] \n",
    "color2 = [\"black\", \"red\",\"yellow\", \"green\", \"blue\"]\n",
    "color = []\n",
    "for i in color1:\n",
    "    color.append(i)\n",
    "for x in color2:\n",
    "    color.append(x)\n",
    "print(color,\"\\n\")\n",
    "\n",
    "count = {} \n",
    "for i in color: \n",
    "    count[i] = count.get(i, 0) + 1\n",
    "print(count,\"\\n\") \n",
    "\n",
    "for key, value in count.items(): \n",
    "    print (\"'% s' is printed % s times\"%(key, value)) \n",
    "\n"
   ]
  },
  {
   "cell_type": "markdown",
   "metadata": {},
   "source": [
    "# Write a Python program to compute the similarity between two lists.\n",
    "\n",
    "#### Sample data: [\"red\", \"orange\", \"green\", \"blue\", \"white\"], [\"black\", \"yellow\", \"green\", \"blue\"]\n",
    "#### Expected Output: Color1-Color2: ['white', 'orange', 'red']\n",
    "#### Color2-Color1: ['black', 'yellow']"
   ]
  },
  {
   "cell_type": "code",
   "execution_count": 58,
   "metadata": {},
   "outputs": [
    {
     "name": "stdout",
     "output_type": "stream",
     "text": [
      "Color1-Color2:  ['red', 'orange', 'white']\n",
      "Color2-Color1:  ['black', 'yellow']\n"
     ]
    }
   ],
   "source": [
    "\n",
    "# count1 = {} \n",
    "# for i in color1: \n",
    "#     count1[i] = count1.get(i, 0) + 1\n",
    "# print(count1)\n",
    "\n",
    "# count2 = {} \n",
    "# for j in color2: \n",
    "#     count2[j] = count2.get(j, 0) + 1\n",
    "# print(count2) \n",
    "\n",
    "from collections import Counter\n",
    "color1 = [\"red\", \"orange\", \"green\", \"blue\", \"white\"] \n",
    "color2 = [\"black\",\"yellow\", \"green\", \"blue\"]\n",
    "\n",
    "counter1 = Counter(color1)\n",
    "counter2 = Counter(color2)\n",
    "print(\"Color1-Color2: \",list(counter1 - counter2))\n",
    "print(\"Color2-Color1: \",list(counter2 - counter1))"
   ]
  },
  {
   "cell_type": "markdown",
   "metadata": {},
   "source": [
    "# Write a Python function that takes a list of words and returns the length of the longest one"
   ]
  },
  {
   "cell_type": "code",
   "execution_count": 60,
   "metadata": {},
   "outputs": [
    {
     "name": "stdout",
     "output_type": "stream",
     "text": [
      "\n",
      "Longest word in the list:  letsupgrade\n",
      "Length of the longest word:  11\n"
     ]
    }
   ],
   "source": [
    "def long(word):\n",
    "    length = []\n",
    "    for n in word:\n",
    "        length.append((len(n), n))\n",
    "    length.sort()\n",
    "    return length[-1][0], length[-1][1]\n",
    "result = long([\"Python\",\"essentials\",\"letsupgrade\"])\n",
    "print(\"\\nLongest word in the list: \",result[1])\n",
    "print(\"Length of the longest word: \",result[0])\n"
   ]
  },
  {
   "cell_type": "markdown",
   "metadata": {},
   "source": [
    "# Write a Python program to count the occurrences of each word in a given sentence"
   ]
  },
  {
   "cell_type": "code",
   "execution_count": 61,
   "metadata": {},
   "outputs": [
    {
     "name": "stdout",
     "output_type": "stream",
     "text": [
      "{'Write': 1, 'a': 2, 'Python': 1, 'program': 1, 'to': 1, 'count': 1, 'the': 1, 'occurrences': 1, 'of': 1, 'each': 1, 'word': 1, 'in': 1, 'given': 1, 'sentence': 1}\n"
     ]
    }
   ],
   "source": [
    "def count(str):\n",
    "    counts = {}\n",
    "    words = str.split()\n",
    "\n",
    "    for word in words:\n",
    "        if word in counts:\n",
    "            counts[word] += 1\n",
    "        else:\n",
    "            counts[word] = 1\n",
    "\n",
    "    return counts\n",
    "\n",
    "print(count('Write a Python program to count the occurrences of each word in a given sentence'))\n"
   ]
  },
  {
   "cell_type": "markdown",
   "metadata": {},
   "source": [
    "# Write a Python program to count and display the vowels of a given text"
   ]
  },
  {
   "cell_type": "code",
   "execution_count": 71,
   "metadata": {},
   "outputs": [
    {
     "name": "stdout",
     "output_type": "stream",
     "text": [
      "letsupgrade\n",
      "e : 1\n",
      "u : 1\n",
      "a : 1\n",
      "e : 1\n"
     ]
    }
   ],
   "source": [
    "text = input()\n",
    "vowels = \"aeiuoAEIOU\"\n",
    "for letter in text:\n",
    "    if letter in vowels:\n",
    "        print(letter,\":\",len(letter))\n",
    "        \n",
    "        "
   ]
  },
  {
   "cell_type": "code",
   "execution_count": 72,
   "metadata": {},
   "outputs": [
    {
     "name": "stdout",
     "output_type": "stream",
     "text": [
      "4\n",
      "['e', 'u', 'a', 'e']\n"
     ]
    }
   ],
   "source": [
    "def vowel(text):\n",
    "    vowels = \"aeiuoAEIOU\"\n",
    "    print(len([letter for letter in text if letter in vowels]))\n",
    "    print([letter for letter in text if letter in vowels])\n",
    "vowel('letsupgrade');"
   ]
  },
  {
   "cell_type": "markdown",
   "metadata": {},
   "source": [
    "# Write a Python script to generate and print a dictionary that contains a number (between 1 and n) in the form (x, x*x)"
   ]
  },
  {
   "cell_type": "code",
   "execution_count": 78,
   "metadata": {},
   "outputs": [
    {
     "name": "stdout",
     "output_type": "stream",
     "text": [
      "Enter a number 5\n",
      "{1: 1, 2: 4, 3: 9, 4: 16, 5: 25}\n"
     ]
    }
   ],
   "source": [
    "n=int(input(\"Enter a number \"))\n",
    "d = dict()\n",
    "\n",
    "for i in range(1,n+1):\n",
    "    d[i]=(i * i)\n",
    "print(d) \n"
   ]
  },
  {
   "cell_type": "markdown",
   "metadata": {},
   "source": [
    "# Write a Python program to combine two dictionary adding values for common keys\n",
    "\n",
    "### ● d1 = {'a': 100, 'b': 200, 'c':300}\n",
    "### ● d2 = {'a': 300, 'b': 200, 'd':400}\n",
    "### ● Sample output: Counter({'a': 400, 'b': 400, 'd': 400, 'c': 300})"
   ]
  },
  {
   "cell_type": "code",
   "execution_count": 86,
   "metadata": {},
   "outputs": [
    {
     "name": "stdout",
     "output_type": "stream",
     "text": [
      "{'a': 400, 'b': 400, 'd': 400}\n"
     ]
    }
   ],
   "source": [
    "d1 = {'a': 100, 'b': 200, 'c':300}\n",
    "d2 = {'a': 300, 'b': 200, 'd':400}\n",
    "    \n",
    "for key in d2: \n",
    "    if key in d1: \n",
    "        d2[key] = d2[key] + d1[key] \n",
    "print(d2) "
   ]
  },
  {
   "cell_type": "code",
   "execution_count": 88,
   "metadata": {},
   "outputs": [
    {
     "name": "stdout",
     "output_type": "stream",
     "text": [
      "Counter({'a': 400, 'b': 400, 'd': 400, 'c': 300})\n"
     ]
    }
   ],
   "source": [
    "from collections import Counter \n",
    "d1 = {'a': 100, 'b': 200, 'c':300}\n",
    "d2 = {'a': 300, 'b': 200, 'd':400}\n",
    "      \n",
    "dictcount = Counter(d1) + Counter(d2) \n",
    "print(dictcount) "
   ]
  },
  {
   "cell_type": "markdown",
   "metadata": {},
   "source": [
    "# Write a Python program to print all unique values in a dictionary\n",
    "### ● Sample Data : [{\"V\":\"S001\"}, {\"V\": \"S002\"}, {\"VI\": \"S001\"}, {\"VI\": \"S005\"}, {\"VII\":\"S005\"},{\"V\":\"S009\"{\"VIII\":\"S007\"}]\n",
    "### ● Expected Output : Unique Values: {'S005', 'S002', 'S007', 'S001', 'S009'}"
   ]
  },
  {
   "cell_type": "code",
   "execution_count": 91,
   "metadata": {},
   "outputs": [
    {
     "name": "stdout",
     "output_type": "stream",
     "text": [
      "Unique Values:  {'S005', 'S007', 'S001', 'S009', 'S002'}\n"
     ]
    }
   ],
   "source": [
    "Sample_Data = [{\"V\":\"S001\"}, {\"V\": \"S002\"}, {\"VI\": \"S001\"}, {\"VI\": \"S005\"}, {\"VII\":\"S005\"}, {\"V\":\"S009\"},{\"VIII\":\"S007\"}]\n",
    "unique_value = set( val for data in Sample_Data for val in data.values())\n",
    "print(\"Unique Values: \",unique_value)\n"
   ]
  },
  {
   "cell_type": "code",
   "execution_count": null,
   "metadata": {},
   "outputs": [],
   "source": []
  }
 ],
 "metadata": {
  "kernelspec": {
   "display_name": "Python 3",
   "language": "python",
   "name": "python3"
  },
  "language_info": {
   "codemirror_mode": {
    "name": "ipython",
    "version": 3
   },
   "file_extension": ".py",
   "mimetype": "text/x-python",
   "name": "python",
   "nbconvert_exporter": "python",
   "pygments_lexer": "ipython3",
   "version": "3.8.3"
  }
 },
 "nbformat": 4,
 "nbformat_minor": 4
}
