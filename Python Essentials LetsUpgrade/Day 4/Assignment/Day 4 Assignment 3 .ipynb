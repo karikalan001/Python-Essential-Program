{
 "cells": [
  {
   "cell_type": "markdown",
   "metadata": {},
   "source": [
    "# Write a Python function to find the Max of three numbers."
   ]
  },
  {
   "cell_type": "code",
   "execution_count": 11,
   "metadata": {},
   "outputs": [
    {
     "name": "stdout",
     "output_type": "stream",
     "text": [
      "Enter the 1st number5\n",
      "Enter the 2nd number5\n",
      "Enter the 3rd number5\n"
     ]
    },
    {
     "data": {
      "text/plain": [
       "5"
      ]
     },
     "execution_count": 11,
     "metadata": {},
     "output_type": "execute_result"
    }
   ],
   "source": [
    "def Max(n1,n2,n3):\n",
    "    if n1>=n2 and n1>=n3:\n",
    "        return n1\n",
    "    elif n2>=n1 and n2>=n3:\n",
    "        return n2\n",
    "    else:\n",
    "        return n3\n",
    "a = int(input(\"Enter the 1st number\"))\n",
    "b = int(input(\"Enter the 2nd number\"))\n",
    "c = int(input(\"Enter the 3rd number\"))\n",
    "\n",
    "max(a,b,c)"
   ]
  },
  {
   "cell_type": "code",
   "execution_count": 12,
   "metadata": {},
   "outputs": [
    {
     "data": {
      "text/plain": [
       "3"
      ]
     },
     "execution_count": 12,
     "metadata": {},
     "output_type": "execute_result"
    }
   ],
   "source": [
    "def max_list(n1,n2,n3):\n",
    "    list1=[n1,n2,n3]\n",
    "    return max(list1)\n",
    "max_list(2,3,1)"
   ]
  },
  {
   "cell_type": "markdown",
   "metadata": {},
   "source": [
    "# Write a Python function that checks whether a passed string is palindrome or not"
   ]
  },
  {
   "cell_type": "code",
   "execution_count": 17,
   "metadata": {},
   "outputs": [
    {
     "name": "stdout",
     "output_type": "stream",
     "text": [
      " Enter The String kaala\n",
      "kaala False \n",
      "\n",
      "The entered string is not a palindrome\n"
     ]
    }
   ],
   "source": [
    "def palindrome(word):\n",
    "    return word == word[::-1]\n",
    "\n",
    "word = input(\" Enter The String \")\n",
    "reversed_word = palindrome(word)\n",
    " \n",
    "if reversed_word:\n",
    "    print(\"The entered string is palindrome\")\n",
    "else:\n",
    "    print(\"The entered string is not a palindrome\")\n"
   ]
  },
  {
   "cell_type": "markdown",
   "metadata": {},
   "source": [
    "# Write a Python function that accepts a string and calculate the number of uppercase letters and lowercase letters"
   ]
  },
  {
   "cell_type": "code",
   "execution_count": 20,
   "metadata": {},
   "outputs": [
    {
     "name": "stdout",
     "output_type": "stream",
     "text": [
      "Enter the text :\n",
      "Write a Python function that accepts a string and calculate the number of uppercase letters and lowercase letters\n",
      "No. of Upper case letters : 2\n",
      "No. of Lower case letters : 94\n"
     ]
    }
   ],
   "source": [
    "def letter_case(s):      \n",
    "    upper = sum(1 for i in s if i.isupper())\n",
    "    lower = sum(1 for i in s if i.islower())\n",
    "    print( \"No. of Upper case letters : %s\\nNo. of Lower case letters : %s\" % (upper,lower))\n",
    "text = input(\"Enter the text :\\n\")\n",
    "letter_case(text)"
   ]
  },
  {
   "cell_type": "markdown",
   "metadata": {},
   "source": [
    "# Write a Python function to sum all the numbers in a list"
   ]
  },
  {
   "cell_type": "code",
   "execution_count": 29,
   "metadata": {},
   "outputs": [
    {
     "name": "stdout",
     "output_type": "stream",
     "text": [
      "Enter number of elements : 4\n",
      "6\n",
      "8\n",
      "7\n",
      "9\n",
      "[6, 8, 7, 9]\n"
     ]
    },
    {
     "data": {
      "text/plain": [
       "30"
      ]
     },
     "execution_count": 29,
     "metadata": {},
     "output_type": "execute_result"
    }
   ],
   "source": [
    "\n",
    "def sumof(lst):\n",
    "\n",
    "    return sum(lst)\n",
    "l1 = []\n",
    "n = int(input(\"Enter number of elements : \"))     \n",
    "for i in range(0, n): \n",
    "    numbers = int(input()) \n",
    "    l1.append(numbers)\n",
    "      \n",
    "print(l1) \n",
    "sumof(lst)\n",
    "\n"
   ]
  },
  {
   "cell_type": "markdown",
   "metadata": {},
   "source": [
    "# Write a Python function to multiply all the numbers in a list\n"
   ]
  },
  {
   "cell_type": "code",
   "execution_count": 30,
   "metadata": {},
   "outputs": [
    {
     "name": "stdout",
     "output_type": "stream",
     "text": [
      "Enter number of elements : 4\n",
      "7\n",
      "8\n",
      "9\n",
      "2\n",
      "[7, 8, 9, 2]\n",
      "product of all elements in the list is :  1008\n"
     ]
    }
   ],
   "source": [
    "def mulof(lst):\n",
    "    result = 1\n",
    "    for x in lst:\n",
    "         result = result * x \n",
    "    return result \n",
    "l1 = []\n",
    "n = int(input(\"Enter number of elements : \"))     \n",
    "for i in range(0, n): \n",
    "    numbers = int(input()) \n",
    "    l1.append(numbers)\n",
    "      \n",
    "print(l1) \n",
    "print(\"product of all elements in the list is : \",mulof(l1))"
   ]
  },
  {
   "cell_type": "markdown",
   "metadata": {},
   "source": [
    "# Write a Python function that takes a list and returns a new list with unique elements of the first list"
   ]
  },
  {
   "cell_type": "code",
   "execution_count": 33,
   "metadata": {},
   "outputs": [
    {
     "name": "stdout",
     "output_type": "stream",
     "text": [
      "Enter number of elements : 9\n",
      "1\n",
      "5\n",
      "7\n",
      "4\n",
      "8\n",
      "5\n",
      "8\n",
      "9\n",
      "2\n",
      "[1, 5, 7, 4, 8, 5, 8, 9, 2]\n",
      "Unique elements in the list are :  [1, 5, 7, 4, 8, 9, 2]\n"
     ]
    }
   ],
   "source": [
    "def unique(lst):\n",
    "    l = []\n",
    "    for a in lst:\n",
    "        if a not in l:\n",
    "            l.append(a)\n",
    "    return l\n",
    "\n",
    "l1 = []\n",
    "n = int(input(\"Enter number of elements : \"))     \n",
    "for i in range(0, n): \n",
    "    numbers = int(input()) \n",
    "    l1.append(numbers)\n",
    "      \n",
    "print(l1) \n",
    "print(\"Unique elements in the list are : \",unique(l1))"
   ]
  },
  {
   "cell_type": "code",
   "execution_count": null,
   "metadata": {},
   "outputs": [],
   "source": []
  }
 ],
 "metadata": {
  "kernelspec": {
   "display_name": "Python 3",
   "language": "python",
   "name": "python3"
  },
  "language_info": {
   "codemirror_mode": {
    "name": "ipython",
    "version": 3
   },
   "file_extension": ".py",
   "mimetype": "text/x-python",
   "name": "python",
   "nbconvert_exporter": "python",
   "pygments_lexer": "ipython3",
   "version": "3.8.3"
  }
 },
 "nbformat": 4,
 "nbformat_minor": 4
}
