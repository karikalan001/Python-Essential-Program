{
 "cells": [
  {
   "cell_type": "code",
   "execution_count": 3,
   "metadata": {},
   "outputs": [
    {
     "data": {
      "text/plain": [
       "(221, b'2.0.0 closing connection e24sm14127149pjt.16 - gsmtp')"
      ]
     },
     "execution_count": 3,
     "metadata": {},
     "output_type": "execute_result"
    }
   ],
   "source": [
    "import smtplib \n",
    "  \n",
    "s = smtplib.SMTP('smtp.gmail.com', 587) \n",
    "\n",
    "s.starttls() \n",
    "  \n",
    "s.login(\"karikalankulandaivel001@gmail.com\", \"Password_gmail_id\") \n",
    "  \n",
    "message = \"Message_you_need_to_send\"\n",
    "\n",
    "s.sendmail(\"karikalankulandaivel001@gmail.com\", \"karikalan.17mca@kct.ac.in\", message) \n",
    "  \n",
    "s.quit() "
   ]
  },
  {
   "cell_type": "markdown",
   "metadata": {},
   "source": [
    "# program worked good\n",
    "\n",
    "\n",
    "SMTPAuthenticationError: (535, b'5.7.8 Username and Password not accepted. \n",
    "Learn more at\\n5.7.8 https://support.google.com/mail/?p=BadCredentials j17sm17837505pfh.183 - gsmtp')\n",
    "                          \n",
    "                          \n",
    "recieved this error and sorted out"
   ]
  },
  {
   "cell_type": "code",
   "execution_count": 4,
   "metadata": {},
   "outputs": [],
   "source": [
    "\n",
    "to_mail = [\"karikalan.17mca@kct.ac.in\", \"unk.karikalan@gmail.com\"] \n",
    "  \n",
    "for mail in to_mail: \n",
    "    s = smtplib.SMTP('smtp.gmail.com', 587) \n",
    "    s.starttls() \n",
    "    s.login(\"karikalankulandaivel001@gmail.com\", \"password_gmail_id\") \n",
    "    message = \"Message_you_need_to_send\"\n",
    "    s.sendmail(\"karikalankulandaivel001@gmail.com\", mail, message) \n",
    "    s.quit() "
   ]
  },
  {
   "cell_type": "markdown",
   "metadata": {},
   "source": [
    "# program worked good"
   ]
  },
  {
   "cell_type": "code",
   "execution_count": null,
   "metadata": {},
   "outputs": [],
   "source": []
  }
 ],
 "metadata": {
  "kernelspec": {
   "display_name": "Python 3",
   "language": "python",
   "name": "python3"
  },
  "language_info": {
   "codemirror_mode": {
    "name": "ipython",
    "version": 3
   },
   "file_extension": ".py",
   "mimetype": "text/x-python",
   "name": "python",
   "nbconvert_exporter": "python",
   "pygments_lexer": "ipython3",
   "version": "3.8.3"
  }
 },
 "nbformat": 4,
 "nbformat_minor": 4
}
